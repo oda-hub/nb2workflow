{
 "cells": [
  {
   "cell_type": "code",
   "execution_count": null,
   "id": "initial_id",
   "metadata": {
    "editable": true,
    "slideshow": {
     "slide_type": ""
    },
    "tags": [
     "parameters"
    ]
   },
   "outputs": [],
   "source": [
    "a = 10"
   ]
  },
  {
   "cell_type": "code",
   "execution_count": null,
   "outputs": [],
   "source": [
    "from oda_api.api import ProgressReporter\n",
    "pr = ProgressReporter()\n",
    "assert pr.enabled\n",
    "pr.report_progress(stage='simulation', progress=50, substage='spectra', subprogress=30, message='some message')\n",
    "callback = pr._callback"
   ],
   "metadata": {
    "collapsed": false
   },
   "id": "3c6a5d05bbbd359f"
  },
  {
   "cell_type": "code",
   "execution_count": null,
   "id": "256b6a6696ecc58d",
   "metadata": {
    "collapsed": false,
    "editable": true,
    "slideshow": {
     "slide_type": ""
    },
    "tags": [
     "outputs"
    ]
   },
   "outputs": [],
   "source": [
    "callback"
   ]
  }
 ],
 "metadata": {
  "kernelspec": {
   "display_name": "Python 3 (ipykernel)",
   "language": "python",
   "name": "python3"
  },
  "language_info": {
   "codemirror_mode": {
    "name": "ipython",
    "version": 3
   },
   "file_extension": ".py",
   "mimetype": "text/x-python",
   "name": "python",
   "nbconvert_exporter": "python",
   "pygments_lexer": "ipython3",
   "version": "3.9.18"
  }
 },
 "nbformat": 4,
 "nbformat_minor": 5
}
