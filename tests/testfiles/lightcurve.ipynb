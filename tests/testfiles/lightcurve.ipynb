{
 "cells": [
  {
   "cell_type": "code",
   "execution_count": 2,
   "metadata": {},
   "outputs": [],
   "source": [
    "import numpy as np\n",
    "import astropy\n",
    "from astropy.time import Time\n",
    "from oda_api.data_products import LightCurveDataProduct"
   ]
  },
  {
   "cell_type": "code",
   "execution_count": 3,
   "metadata": {
    "tags": [
     "parameters"
    ]
   },
   "outputs": [],
   "source": [
    "# src_ra = 193.822 # http://odahub.io/ontology#PointOfInterestRA\n",
    "# src_dec = 2.89732 # http://odahub.io/ontology#PointOfInterestDEC\n",
    "seed = 60 # example of additional parameter; also for reproducibility \n",
    "start_time = '2021-06-25T05:59:37.0' # http://odahub.io/ontology#StartTime\n",
    "end_time = '2021-06-30T15:59:37.0' # http://odahub.io/ontology#EndTime"
   ]
  },
  {
   "cell_type": "code",
   "execution_count": 4,
   "metadata": {},
   "outputs": [],
   "source": [
    "# generate example data\n",
    "numpoints = 15\n",
    "t1 = Time(start_time, format='isot')\n",
    "t2 = Time(end_time, format='isot')\n",
    "dt = (t2 - t1) / (numpoints - 1) \n",
    "times = t1 + dt * np.arange(numpoints)\n",
    "\n",
    "np.random.seed(seed)\n",
    "magnitudes = 18 + np.random.random(numpoints) * 2\n",
    "errors = np.random.random(numpoints) - 0.5\n"
   ]
  },
  {
   "cell_type": "code",
   "execution_count": 5,
   "metadata": {},
   "outputs": [],
   "source": [
    "lc = LightCurveDataProduct.from_arrays(\n",
    "    times = times,\n",
    "    magnitudes = magnitudes,\n",
    "    errors = errors\n",
    ")"
   ]
  },
  {
   "cell_type": "code",
   "execution_count": 6,
   "metadata": {
    "tags": [
     "outputs"
    ]
   },
   "outputs": [],
   "source": [
    "result = lc # http://odahub.io/ontology#LightCurve"
   ]
  }
 ],
 "metadata": {
  "kernelspec": {
   "display_name": "Python 3 (ipykernel)",
   "language": "python",
   "name": "python3"
  },
  "language_info": {
   "codemirror_mode": {
    "name": "ipython",
    "version": 3
   },
   "file_extension": ".py",
   "mimetype": "text/x-python",
   "name": "python",
   "nbconvert_exporter": "python",
   "pygments_lexer": "ipython3",
   "version": "3.10.6"
  },
  "vscode": {
   "interpreter": {
    "hash": "cabd6518f57ed213df8e2657c5ff3b5eb3e91549c47470227238d89e8c4e196e"
   }
  }
 },
 "nbformat": 4,
 "nbformat_minor": 4
}
