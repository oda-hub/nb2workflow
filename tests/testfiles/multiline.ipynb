{
 "cells": [
  {
   "cell_type": "code",
   "execution_count": null,
   "metadata": {
    "tags": [
     "parameters"
    ]
   },
   "outputs": [],
   "source": [
    "from __future__ import annotations\n",
    "\n",
    "\"\"\" Multiline parameters, \n",
    "    Type annotations\n",
    "    Optional parameters \n",
    "\"\"\"\n",
    "\n",
    "mline = {'foo': ['bar', 'baz'],     # this comment is ignored\n",
    "         'spam': ['ham', 'eggs']} # oda:StructuredParameter\n",
    "\n",
    "opt: float|None = None\n",
    "inten: int = 45 # oda:Energy\n",
    "flag = True"
   ]
  },
  {
   "cell_type": "code",
   "execution_count": null,
   "metadata": {
    "tags": [
     "outputs"
    ]
   },
   "outputs": [],
   "source": [
    "static = \"\"\"Just a static\n",
    "            but multiline string\"\"\""
   ]
  }
 ],
 "metadata": {
  "language_info": {
   "name": "python"
  }
 },
 "nbformat": 4,
 "nbformat_minor": 2
}
