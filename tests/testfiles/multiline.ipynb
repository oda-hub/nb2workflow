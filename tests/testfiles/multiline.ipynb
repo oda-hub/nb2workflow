{
 "cells": [
  {
   "cell_type": "code",
   "execution_count": null,
   "metadata": {
    "tags": [
     "parameters"
    ]
   },
   "outputs": [],
   "source": [
    "from __future__ import annotations\n",
    "\n",
    "\"\"\" Multiline parameters, \n",
    "    Type annotations\n",
    "    Optional parameters \n",
    "\"\"\"\n",
    "\n",
    "mline = {'foo': ['bar', 'baz'],     # this comment is ignored\n",
    "         'spam': ['ham', 'eggs']} # oda:StructuredParameter\n",
    "\n",
    "opt: float|None = None\n",
    "otheropt = 5 # oda:optional\n",
    "intfloat = 10 # oda:Float\n",
    "inten: int = 45 # oda:Energy \n",
    "# NOTE: won't work with dispatcher, because energy is always float there\n",
    "string_param = '''Foo Bar\n",
    "Contains = Symbol\n",
    "Spam Ham\n",
    "''' # oda:LongString\n",
    "flag = True"
   ]
  },
  {
   "cell_type": "code",
   "execution_count": null,
   "metadata": {
    "tags": [
     "outputs"
    ]
   },
   "outputs": [],
   "source": [
    "static = \"\"\"Just a static\n",
    "            but multiline string\"\"\"\n",
    "echo = dict(mline = mline,\n",
    "            opt = opt,\n",
    "            otheropt = otheropt,\n",
    "            intfloat = intfloat,\n",
    "            inten = inten,\n",
    "            string_param = string_param,\n",
    "            flag = flag)"
   ]
  }
 ],
 "metadata": {
  "kernelspec": {
   "display_name": ".venv",
   "language": "python",
   "name": "python3"
  },
  "language_info": {
   "name": "python",
   "version": "3.10.12"
  }
 },
 "nbformat": 4,
 "nbformat_minor": 2
}
